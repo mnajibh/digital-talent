{
 "cells": [
  {
   "cell_type": "markdown",
   "metadata": {},
   "source": [
    "# 1. Sintaks Dasar\n",
    "Shift + Enter untuk running"
   ]
  },
  {
   "cell_type": "code",
   "execution_count": 2,
   "metadata": {},
   "outputs": [
    {
     "name": "stdout",
     "output_type": "stream",
     "text": [
      "hello world!\n"
     ]
    }
   ],
   "source": [
    "print('hello world!')"
   ]
  },
  {
   "cell_type": "code",
   "execution_count": 3,
   "metadata": {},
   "outputs": [
    {
     "data": {
      "text/plain": [
       "'Muhammad Najib Habibullah'"
      ]
     },
     "execution_count": 3,
     "metadata": {},
     "output_type": "execute_result"
    }
   ],
   "source": [
    "nama = \"Muhammad Najib Habibullah\"\n",
    "nama"
   ]
  },
  {
   "cell_type": "code",
   "execution_count": 4,
   "metadata": {},
   "outputs": [
    {
     "data": {
      "text/plain": [
       "'Habib'"
      ]
     },
     "execution_count": 4,
     "metadata": {},
     "output_type": "execute_result"
    }
   ],
   "source": [
    "nama = \"Najib\"\n",
    "nama = \"Habib\"\n",
    "nama"
   ]
  },
  {
   "cell_type": "markdown",
   "metadata": {},
   "source": [
    " "
   ]
  },
  {
   "cell_type": "markdown",
   "metadata": {},
   "source": [
    " "
   ]
  },
  {
   "cell_type": "markdown",
   "metadata": {},
   "source": [
    "### Tipe Data\n",
    "String = Character\n",
    "Boolean = True/False 0/1\n",
    "List = \n",
    "Tuple = List isinya fix (Nama bulan)\n",
    "Set = Unique list (NIK)\n",
    "Dictionary ="
   ]
  },
  {
   "cell_type": "markdown",
   "metadata": {},
   "source": [
    " "
   ]
  },
  {
   "cell_type": "markdown",
   "metadata": {},
   "source": [
    " "
   ]
  },
  {
   "cell_type": "code",
   "execution_count": null,
   "metadata": {},
   "outputs": [],
   "source": [
    "Integer = koma\n",
    "Float = + koma"
   ]
  },
  {
   "cell_type": "code",
   "execution_count": 9,
   "metadata": {},
   "outputs": [
    {
     "name": "stdout",
     "output_type": "stream",
     "text": [
      "5 <class 'int'>\n",
      "5.0 <class 'float'>\n"
     ]
    }
   ],
   "source": [
    "a = 5\n",
    "print (a, type(a))\n",
    "\n",
    "a = 5.0  #koma pake \".\"\n",
    "print (a, type(a))"
   ]
  },
  {
   "cell_type": "markdown",
   "metadata": {},
   "source": [
    "### Boolean"
   ]
  },
  {
   "cell_type": "code",
   "execution_count": 10,
   "metadata": {},
   "outputs": [
    {
     "name": "stdout",
     "output_type": "stream",
     "text": [
      "False\n",
      "True\n"
     ]
    }
   ],
   "source": [
    "a = 5>6\n",
    "print(a)\n",
    "\n",
    "a = 5<6\n",
    "print(a)"
   ]
  },
  {
   "cell_type": "markdown",
   "metadata": {},
   "source": [
    " "
   ]
  },
  {
   "cell_type": "markdown",
   "metadata": {},
   "source": [
    " "
   ]
  },
  {
   "cell_type": "markdown",
   "metadata": {},
   "source": [
    "### Aritmatika"
   ]
  },
  {
   "cell_type": "code",
   "execution_count": 13,
   "metadata": {},
   "outputs": [
    {
     "name": "stdout",
     "output_type": "stream",
     "text": [
      "x % y = 1\n",
      "x // y = 4\n"
     ]
    }
   ],
   "source": [
    "x = 9\n",
    "y = 2\n",
    "\n",
    "print ('x % y =', x%y) #mod = sisa\n",
    "print ('x // y =', x//y) #bagi dibulatkan kebawah"
   ]
  },
  {
   "cell_type": "code",
   "execution_count": 15,
   "metadata": {},
   "outputs": [
    {
     "data": {
      "text/plain": [
       "55"
      ]
     },
     "execution_count": 15,
     "metadata": {},
     "output_type": "execute_result"
    }
   ],
   "source": [
    "#yang di assign selalu dikiri\n",
    "\n",
    "a = 5\n",
    "b = 2\n",
    "a = a+6\n",
    "a = a*5\n",
    "a"
   ]
  },
  {
   "cell_type": "markdown",
   "metadata": {},
   "source": [
    "  "
   ]
  },
  {
   "cell_type": "markdown",
   "metadata": {},
   "source": [
    " "
   ]
  },
  {
   "cell_type": "markdown",
   "metadata": {},
   "source": [
    "### Latihan"
   ]
  },
  {
   "cell_type": "code",
   "execution_count": 32,
   "metadata": {},
   "outputs": [],
   "source": [
    "harga_buku = 100000\n",
    "diskon = 40\n",
    "biaya_kirim1 = 9000\n",
    "biaya_kirim2 = 3000\n",
    "eksemplar = 60"
   ]
  },
  {
   "cell_type": "code",
   "execution_count": 35,
   "metadata": {},
   "outputs": [
    {
     "data": {
      "text/plain": [
       "3786000.0"
      ]
     },
     "execution_count": 35,
     "metadata": {},
     "output_type": "execute_result"
    }
   ],
   "source": [
    "total = ((harga_buku*eksemplar) - (harga_buku*eksemplar*(diskon/100)) + biaya_kirim1 + ((eksemplar-1)*biaya_kirim2))\n",
    "total"
   ]
  },
  {
   "cell_type": "markdown",
   "metadata": {},
   "source": [
    " "
   ]
  },
  {
   "cell_type": "markdown",
   "metadata": {},
   "source": [
    " "
   ]
  },
  {
   "cell_type": "markdown",
   "metadata": {},
   "source": [
    "### Operator"
   ]
  },
  {
   "cell_type": "markdown",
   "metadata": {},
   "source": [
    "and\n",
    "or\n",
    "'not' --> dibalik, kalo dia True jadi False"
   ]
  },
  {
   "cell_type": "markdown",
   "metadata": {},
   "source": [
    " "
   ]
  },
  {
   "cell_type": "markdown",
   "metadata": {},
   "source": [
    " "
   ]
  },
  {
   "cell_type": "markdown",
   "metadata": {},
   "source": [
    "### Pernyataan Logika"
   ]
  },
  {
   "cell_type": "code",
   "execution_count": 61,
   "metadata": {},
   "outputs": [
    {
     "name": "stdout",
     "output_type": "stream",
     "text": [
      "lulus\n",
      "program selesai\n"
     ]
    }
   ],
   "source": [
    "nilai = 91\n",
    "if nilai>=90: #eksekusi ':' yang menjorok saja\n",
    "    print(\"lulus\")\n",
    "elif nilai>75:\n",
    "    print(\"waiting list\")\n",
    "else:\n",
    "    print(\"coba lagi\")\n",
    "    \n",
    "print(\"program selesai\")"
   ]
  },
  {
   "cell_type": "code",
   "execution_count": 62,
   "metadata": {},
   "outputs": [],
   "source": [
    "nilai = 90\n",
    "umur = 20\n",
    "\n",
    "if nilai>90:\n",
    "    if umur>17:\n",
    "        print('berhak ikut')\n",
    "    else:\n",
    "        print('belum berhak') #bisa pake and tapi ga bisa tau kondisi yang bertabrakan mana\n",
    "else:\n",
    "    print('belum berhasil')\n",
    "\n",
    "print('selesai')"
   ]
  },
  {
   "cell_type": "markdown",
   "metadata": {},
   "source": [
    " "
   ]
  },
  {
   "cell_type": "markdown",
   "metadata": {},
   "source": [
    "  "
   ]
  },
  {
   "cell_type": "markdown",
   "metadata": {},
   "source": [
    "### BMI Calculator"
   ]
  },
  {
   "cell_type": "code",
   "execution_count": null,
   "metadata": {},
   "outputs": [],
   "source": [
    "Nama = Tugas BMI\n",
    "Jupyter notebook baru\n",
    "Github -- Repository/digital-talent\n",
    "Push di Github\n",
    "\n",
    "Submit elisa link\n",
    "\n",
    "batas atas masuk, batas bawah ga masuk"
   ]
  },
  {
   "cell_type": "code",
   "execution_count": null,
   "metadata": {},
   "outputs": [],
   "source": []
  }
 ],
 "metadata": {
  "kernelspec": {
   "display_name": "Python 3",
   "language": "python",
   "name": "python3"
  },
  "language_info": {
   "codemirror_mode": {
    "name": "ipython",
    "version": 3
   },
   "file_extension": ".py",
   "mimetype": "text/x-python",
   "name": "python",
   "nbconvert_exporter": "python",
   "pygments_lexer": "ipython3",
   "version": "3.6.5"
  }
 },
 "nbformat": 4,
 "nbformat_minor": 2
}
