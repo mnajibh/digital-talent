{
 "cells": [
  {
   "cell_type": "code",
   "execution_count": null,
   "metadata": {},
   "outputs": [],
   "source": []
  },
  {
   "cell_type": "markdown",
   "metadata": {},
   "source": [
    "## Looping"
   ]
  },
  {
   "cell_type": "code",
   "execution_count": 3,
   "metadata": {},
   "outputs": [
    {
     "name": "stdout",
     "output_type": "stream",
     "text": [
      "4 16\n",
      "7 49\n",
      "10 100\n"
     ]
    }
   ],
   "source": [
    "#For\n",
    "#i variable bebas diubah\n",
    "#3 = interval\n",
    "for i in range(4,12,3):\n",
    "    #print(i)\n",
    "    print(i,i**2)"
   ]
  },
  {
   "cell_type": "code",
   "execution_count": 7,
   "metadata": {},
   "outputs": [
    {
     "name": "stdout",
     "output_type": "stream",
     "text": [
      "9\n",
      "11\n",
      "13\n",
      "15\n",
      "17\n",
      "19\n"
     ]
    }
   ],
   "source": [
    "#While\n",
    "i = 9\n",
    "while i<20:\n",
    "    print(i)\n",
    "    i=i+2   #statement update i biar ga infinite loop"
   ]
  },
  {
   "cell_type": "markdown",
   "metadata": {},
   "source": [
    " "
   ]
  },
  {
   "cell_type": "markdown",
   "metadata": {},
   "source": [
    "## List"
   ]
  },
  {
   "cell_type": "markdown",
   "metadata": {},
   "source": [
    "tipe data dlm python yg bisa nyimpen bbrp nilai sekaligus dlm 1 variable"
   ]
  },
  {
   "cell_type": "code",
   "execution_count": 15,
   "metadata": {},
   "outputs": [],
   "source": [
    "nilai   = [90,76,82,85,70,69] #int\n",
    "peserta = ['Aryo', 'Bianca', 'Cete', 'Damas'] #str\n",
    "\n",
    "#bisa campur juga"
   ]
  },
  {
   "cell_type": "markdown",
   "metadata": {},
   "source": [
    "### List Index"
   ]
  },
  {
   "cell_type": "code",
   "execution_count": 16,
   "metadata": {},
   "outputs": [
    {
     "name": "stdout",
     "output_type": "stream",
     "text": [
      "90\n",
      "69\n"
     ]
    }
   ],
   "source": [
    "#mulai dari 0\n",
    "#untuk akses individual elemen dr list\n",
    "\n",
    "print(nilai[0])\n",
    "print(nilai[-1]) #dimulai dari blkg"
   ]
  },
  {
   "cell_type": "markdown",
   "metadata": {},
   "source": [
    "### Nambah Elemen dalam List"
   ]
  },
  {
   "cell_type": "code",
   "execution_count": 17,
   "metadata": {},
   "outputs": [
    {
     "data": {
      "text/plain": [
       "[90, 76, 82, 85, 70, 69, 100]"
      ]
     },
     "execution_count": 17,
     "metadata": {},
     "output_type": "execute_result"
    }
   ],
   "source": [
    "nilai.append(100)\n",
    "nilai"
   ]
  },
  {
   "cell_type": "code",
   "execution_count": 18,
   "metadata": {},
   "outputs": [
    {
     "data": {
      "text/plain": [
       "[90, 76, 82, 85, 70, 69, 100, 56, 29, 95, 48]"
      ]
     },
     "execution_count": 18,
     "metadata": {},
     "output_type": "execute_result"
    }
   ],
   "source": [
    "#tambah list\n",
    "nilai_baru = [56,29,95,48]\n",
    "nilai.extend(nilai_baru)\n",
    "nilai"
   ]
  },
  {
   "cell_type": "code",
   "execution_count": 19,
   "metadata": {},
   "outputs": [
    {
     "data": {
      "text/plain": [
       "[90, 76, 82, 85, 70, 69, 100, 56, 29, 48]"
      ]
     },
     "execution_count": 19,
     "metadata": {},
     "output_type": "execute_result"
    }
   ],
   "source": [
    "#hapus\n",
    "del nilai [-2]\n",
    "nilai"
   ]
  },
  {
   "cell_type": "markdown",
   "metadata": {},
   "source": [
    "documentation list, google \"list function in python\""
   ]
  },
  {
   "cell_type": "markdown",
   "metadata": {},
   "source": [
    "### Slicing"
   ]
  },
  {
   "cell_type": "code",
   "execution_count": 23,
   "metadata": {},
   "outputs": [
    {
     "name": "stdout",
     "output_type": "stream",
     "text": [
      "[90, 76, 82, 85, 70, 69, 100, 56, 29, 48]\n",
      "\n",
      "[82, 85, 70]\n",
      "\n",
      "[90, 76, 82, 85, 70, 69, 100, 56]\n",
      "\n",
      "[69, 100, 56, 29, 48]\n",
      "\n",
      "[90, 76, 82, 85, 70, 69, 100, 56, 29, 48]\n"
     ]
    }
   ],
   "source": [
    "print(nilai)\n",
    "print()\n",
    "\n",
    "#elemen 3-5\n",
    "print(nilai[2:5])\n",
    "print()\n",
    "\n",
    "#sebelum index 2 dr blkg\n",
    "print(nilai[:-2])\n",
    "print()\n",
    "\n",
    "#mulai index 5\n",
    "print(nilai[5:])\n",
    "print()\n",
    "\n",
    "#print semua\n",
    "print(nilai[:])\n"
   ]
  },
  {
   "cell_type": "markdown",
   "metadata": {},
   "source": [
    "### Looping list"
   ]
  },
  {
   "cell_type": "code",
   "execution_count": 28,
   "metadata": {},
   "outputs": [
    {
     "name": "stdout",
     "output_type": "stream",
     "text": [
      "90\n",
      "76\n",
      "82\n",
      "85\n",
      "70\n",
      "69\n",
      "100\n",
      "56\n",
      "29\n",
      "48\n",
      "\n",
      "0 90\n",
      "1 76\n",
      "2 82\n",
      "3 85\n",
      "4 70\n",
      "5 69\n",
      "6 100\n",
      "7 56\n",
      "8 29\n",
      "9 48\n"
     ]
    }
   ],
   "source": [
    "#value saja\n",
    "for a in nilai:\n",
    "    print(a)\n",
    "\n",
    "print()\n",
    "#index + value\n",
    "for i,n in enumerate (nilai): #enumerate = count\n",
    "    print(i,n)"
   ]
  },
  {
   "cell_type": "code",
   "execution_count": 29,
   "metadata": {},
   "outputs": [
    {
     "data": {
      "text/plain": [
       "70.5"
      ]
     },
     "execution_count": 29,
     "metadata": {},
     "output_type": "execute_result"
    }
   ],
   "source": [
    "# Rata-rata\n",
    "total = 0\n",
    "for n in nilai:\n",
    "    total = total+n #+float(n), ubah tipe data\n",
    "\n",
    "#tdk menjorok, tdk masuk looping\n",
    "rata = total / len(nilai) #len = total elemen\n",
    "rata"
   ]
  },
  {
   "cell_type": "markdown",
   "metadata": {},
   "source": [
    "### Lookup"
   ]
  },
  {
   "cell_type": "code",
   "execution_count": 30,
   "metadata": {},
   "outputs": [
    {
     "name": "stdout",
     "output_type": "stream",
     "text": [
      "90 ada\n"
     ]
    }
   ],
   "source": [
    "n = 90\n",
    "if n in nilai:\n",
    "    print(n, \"ada\")\n",
    "else:\n",
    "    print(n, \"tidak ada\")"
   ]
  },
  {
   "cell_type": "markdown",
   "metadata": {},
   "source": [
    " "
   ]
  },
  {
   "cell_type": "markdown",
   "metadata": {},
   "source": [
    "## Latihan\n",
    "\n",
    "tugas = [90, 27, 85, 93, 76, 82, 33]\n",
    "Tampilkan list tugas yang genap"
   ]
  },
  {
   "cell_type": "code",
   "execution_count": 44,
   "metadata": {},
   "outputs": [
    {
     "name": "stdout",
     "output_type": "stream",
     "text": [
      "90\n",
      "76\n",
      "82\n"
     ]
    }
   ],
   "source": [
    "#mikirmu kurang cepet\n",
    "tugas = [90, 27, 85, 93, 76, 82, 33]\n",
    "for x in tugas:\n",
    "    if x%2 == 0:\n",
    "        print(x)\n",
    "#print(\"-\")\n",
    "    #print(\"-\")\n",
    "        #print(\"-\")"
   ]
  },
  {
   "cell_type": "markdown",
   "metadata": {},
   "source": [
    " "
   ]
  },
  {
   "cell_type": "markdown",
   "metadata": {},
   "source": [
    "## Tuple\n",
    "list imutable, ga bisa diubah-ubah"
   ]
  },
  {
   "cell_type": "code",
   "execution_count": 46,
   "metadata": {},
   "outputs": [],
   "source": [
    "#declare tuple\n",
    "#akses lebih cepat drpd ke list kalo data gede\n",
    "#lookup cepat\n",
    "hari = ('Senin', 'Selasa', 'Rabu', 'Kamis', 'Jumat', 'Sabtu', 'Minggu')"
   ]
  },
  {
   "cell_type": "markdown",
   "metadata": {},
   "source": [
    "akses elemen, slicing, dan looping sama kayak list"
   ]
  },
  {
   "cell_type": "markdown",
   "metadata": {},
   "source": [
    " "
   ]
  },
  {
   "cell_type": "markdown",
   "metadata": {},
   "source": [
    "## Dictionary\n",
    "representasi key dan value"
   ]
  },
  {
   "cell_type": "code",
   "execution_count": 50,
   "metadata": {},
   "outputs": [
    {
     "name": "stdout",
     "output_type": "stream",
     "text": [
      "{'Nama': 'Bubu', 'Umur': 8, 'Jenis_Kelamin': 'Laki-Laki'}\n",
      "Bubu\n",
      "8\n",
      "Laki-Laki\n"
     ]
    }
   ],
   "source": [
    "siswa = {'Nama':'Bubu', 'Umur': 8, 'Jenis_Kelamin':'Laki-Laki'}\n",
    "siswa2 = {'Nama':'Citra', 'Umur': 6, 'Jenis_Kelamin':'Perempuan'}\n",
    "\n",
    "print(siswa)\n",
    "print(siswa['Nama'])\n",
    "print(siswa['Umur'])\n",
    "print(siswa['Jenis_Kelamin'])"
   ]
  },
  {
   "cell_type": "code",
   "execution_count": 60,
   "metadata": {},
   "outputs": [
    {
     "data": {
      "text/plain": [
       "[{'Nama': 'Bubu', 'Umur': 8, 'Jenis_Kelamin': 'Laki-Laki'},\n",
       " {'Nama': 'Citra', 'Umur': 6, 'Jenis_Kelamin': 'Perempuan'}]"
      ]
     },
     "execution_count": 60,
     "metadata": {},
     "output_type": "execute_result"
    }
   ],
   "source": [
    "#list dictionary\n",
    "list_siswa = []\n",
    "list_siswa.append(siswa)\n",
    "list_siswa.append(siswa2)\n",
    "list_siswa"
   ]
  },
  {
   "cell_type": "code",
   "execution_count": 64,
   "metadata": {},
   "outputs": [
    {
     "name": "stdout",
     "output_type": "stream",
     "text": [
      "Nama Bubu\n",
      "Umur 8\n",
      "Jenis_Kelamin Laki-Laki\n"
     ]
    }
   ],
   "source": [
    "for k,v in siswa.items():\n",
    "    print(k,v)"
   ]
  },
  {
   "cell_type": "markdown",
   "metadata": {},
   "source": [
    "### Ubah nilai dictionary"
   ]
  },
  {
   "cell_type": "code",
   "execution_count": 65,
   "metadata": {},
   "outputs": [
    {
     "data": {
      "text/plain": [
       "{'Nama': 'Bubu', 'Umur': 12, 'Jenis_Kelamin': 'Laki-Laki'}"
      ]
     },
     "execution_count": 65,
     "metadata": {},
     "output_type": "execute_result"
    }
   ],
   "source": [
    "siswa['Umur'] = 12\n",
    "siswa"
   ]
  },
  {
   "cell_type": "markdown",
   "metadata": {},
   "source": [
    "### Tambah elemen / key-value"
   ]
  },
  {
   "cell_type": "code",
   "execution_count": 66,
   "metadata": {},
   "outputs": [
    {
     "data": {
      "text/plain": [
       "{'Nama': 'Bubu', 'Umur': 12, 'Jenis_Kelamin': 'Laki-Laki', 'Asal': 'Situbondo'}"
      ]
     },
     "execution_count": 66,
     "metadata": {},
     "output_type": "execute_result"
    }
   ],
   "source": [
    "siswa['Asal'] = 'Situbondo'\n",
    "siswa"
   ]
  },
  {
   "cell_type": "code",
   "execution_count": 72,
   "metadata": {},
   "outputs": [
    {
     "name": "stdout",
     "output_type": "stream",
     "text": [
      "{'Nama': 'Bubu', 'Umur': 12, 'Jenis_Kelamin': 'Laki-Laki', 'Asal': 'Situbondo', 'Nilai': [90, 76, 82, 85, 70, 69, 100, 56, 29, 48]}\n",
      "\n",
      "90\n",
      "76\n",
      "82\n",
      "85\n",
      "70\n",
      "69\n",
      "100\n",
      "56\n",
      "29\n",
      "48\n"
     ]
    }
   ],
   "source": [
    "#masukkan list\n",
    "siswa['Nilai'] = nilai\n",
    "print(siswa)\n",
    "print()\n",
    "\n",
    "#mengeluarkan semua nilai dlm list\n",
    "for n in siswa['Nilai']:\n",
    "    print(n)"
   ]
  },
  {
   "cell_type": "code",
   "execution_count": 76,
   "metadata": {},
   "outputs": [
    {
     "name": "stdout",
     "output_type": "stream",
     "text": [
      "===============================================\n",
      "Nama Bubu\n",
      "Umur 12\n",
      "Jenis_Kelamin Laki-Laki\n",
      "Asal Situbondo\n",
      "Nilai [90, 76, 82, 85, 70, 69, 100, 56, 29, 48]\n",
      "===============================================\n",
      "Nama Citra\n",
      "Umur 6\n",
      "Jenis_Kelamin Perempuan\n"
     ]
    }
   ],
   "source": [
    "#mengeluarkan semua isi dalam list dictionary\n",
    "for l in list_siswa:\n",
    "    print('===============================================')\n",
    "    for k,v in l.items():\n",
    "        print (k,v)"
   ]
  },
  {
   "cell_type": "markdown",
   "metadata": {},
   "source": [
    " "
   ]
  },
  {
   "cell_type": "markdown",
   "metadata": {},
   "source": [
    "## Operasi String"
   ]
  },
  {
   "cell_type": "markdown",
   "metadata": {},
   "source": [
    "### Slicing & Akses per karakter"
   ]
  },
  {
   "cell_type": "code",
   "execution_count": 77,
   "metadata": {},
   "outputs": [
    {
     "name": "stdout",
     "output_type": "stream",
     "text": [
      "Indone\n"
     ]
    }
   ],
   "source": [
    "nama = \"Indonesia Negara Maju 2045\"\n",
    "print(nama[0:6])"
   ]
  },
  {
   "cell_type": "code",
   "execution_count": 79,
   "metadata": {},
   "outputs": [
    {
     "name": "stdout",
     "output_type": "stream",
     "text": [
      "I\n",
      "n\n",
      "d\n",
      "o\n",
      "n\n",
      "e\n",
      "s\n",
      "i\n",
      "a\n",
      " \n",
      "N\n",
      "e\n",
      "g\n",
      "a\n",
      "r\n",
      "a\n",
      " \n",
      "M\n",
      "a\n",
      "j\n",
      "u\n",
      " \n",
      "2\n",
      "0\n",
      "4\n",
      "5\n"
     ]
    }
   ],
   "source": [
    "for n in nama:\n",
    "    print(n)"
   ]
  },
  {
   "cell_type": "markdown",
   "metadata": {},
   "source": [
    " "
   ]
  },
  {
   "cell_type": "markdown",
   "metadata": {},
   "source": [
    "### String --> List of kata"
   ]
  },
  {
   "cell_type": "code",
   "execution_count": 82,
   "metadata": {},
   "outputs": [
    {
     "name": "stdout",
     "output_type": "stream",
     "text": [
      "['Indonesia', 'Negara', 'Maju', '2045']\n",
      "2045\n"
     ]
    }
   ],
   "source": [
    "#tokenisasi, memotong per token\n",
    "kata = nama.split()\n",
    "print(kata)\n",
    "print(kata[3])"
   ]
  },
  {
   "cell_type": "code",
   "execution_count": 89,
   "metadata": {},
   "outputs": [
    {
     "name": "stdout",
     "output_type": "stream",
     "text": [
      "['Sebagai negara kepulauan, Indonesia memiliki potensi keunggulan ekonomi maritim', ' Terletak di antara Benua Asia dan Benua Australia, serta, Samudera Hindia dan Samudera Pasifik memungkinan negara ini menjadi poros maritim dunia', ' Faktanya, dari 90% perdagangan internasional yang melewati jalur laut, 40% di antaranya melalui perairan Indonesia', ' Sayangnya, kesempatan itu tidak didukung dengan infrastruktur yang memadai', ' Hal itu menyebabkan Indonesia kehilangan daya saing internasional dan kesenjangan ekonomi domestik (Bappenas, 2015)', ' Sektor infrastruktur pelabuhan Indonesia menempati peringkat 72 dari 160 negara di tahun 2017 berdasarkan survei Global Economic Index', ' Di wilayah Asia Tenggara, Indonesia berada pada peringkat 4 dari 9 negara di bawah Singapura, Malaysia, dan Thailand (World Economic Forum, 2017)', ' Biaya logistik yang mahal, kualitas pelayanan belum memadai, terdapat pungutan tidak resmi, pelayanan operasional ekspor-impor lambat, kapasitas dan jaringan pelayanan penyedia jasa terbatas, dan disparitas harga di daerah terpencil merupakan berbagai permasalahan logistik lain yang dihadapi Indonesia (The World Bank, 2016)']\n",
      "\n",
      "['Sebagai', 'negara', 'kepulauan,', 'Indonesia', 'memiliki', 'potensi', 'keunggulan', 'ekonomi', 'maritim']\n",
      "['Terletak', 'di', 'antara', 'Benua', 'Asia', 'dan', 'Benua', 'Australia,', 'serta,', 'Samudera', 'Hindia', 'dan', 'Samudera', 'Pasifik', 'memungkinan', 'negara', 'ini', 'menjadi', 'poros', 'maritim', 'dunia']\n",
      "['Faktanya,', 'dari', '90%', 'perdagangan', 'internasional', 'yang', 'melewati', 'jalur', 'laut,', '40%', 'di', 'antaranya', 'melalui', 'perairan', 'Indonesia']\n",
      "['Sayangnya,', 'kesempatan', 'itu', 'tidak', 'didukung', 'dengan', 'infrastruktur', 'yang', 'memadai']\n",
      "['Hal', 'itu', 'menyebabkan', 'Indonesia', 'kehilangan', 'daya', 'saing', 'internasional', 'dan', 'kesenjangan', 'ekonomi', 'domestik', '(Bappenas,', '2015)']\n",
      "['Sektor', 'infrastruktur', 'pelabuhan', 'Indonesia', 'menempati', 'peringkat', '72', 'dari', '160', 'negara', 'di', 'tahun', '2017', 'berdasarkan', 'survei', 'Global', 'Economic', 'Index']\n",
      "['Di', 'wilayah', 'Asia', 'Tenggara,', 'Indonesia', 'berada', 'pada', 'peringkat', '4', 'dari', '9', 'negara', 'di', 'bawah', 'Singapura,', 'Malaysia,', 'dan', 'Thailand', '(World', 'Economic', 'Forum,', '2017)']\n",
      "['Biaya', 'logistik', 'yang', 'mahal,', 'kualitas', 'pelayanan', 'belum', 'memadai,', 'terdapat', 'pungutan', 'tidak', 'resmi,', 'pelayanan', 'operasional', 'ekspor-impor', 'lambat,', 'kapasitas', 'dan', 'jaringan', 'pelayanan', 'penyedia', 'jasa', 'terbatas,', 'dan', 'disparitas', 'harga', 'di', 'daerah', 'terpencil', 'merupakan', 'berbagai', 'permasalahan', 'logistik', 'lain', 'yang', 'dihadapi', 'Indonesia', '(The', 'World', 'Bank,', '2016)']\n"
     ]
    }
   ],
   "source": [
    "paragraf = \"Sebagai negara kepulauan, Indonesia memiliki potensi keunggulan ekonomi maritim. Terletak di antara Benua Asia dan Benua Australia, serta, Samudera Hindia dan Samudera Pasifik memungkinan negara ini menjadi poros maritim dunia. Faktanya, dari 90% perdagangan internasional yang melewati jalur laut, 40% di antaranya melalui perairan Indonesia. Sayangnya, kesempatan itu tidak didukung dengan infrastruktur yang memadai. Hal itu menyebabkan Indonesia kehilangan daya saing internasional dan kesenjangan ekonomi domestik (Bappenas, 2015). Sektor infrastruktur pelabuhan Indonesia menempati peringkat 72 dari 160 negara di tahun 2017 berdasarkan survei Global Economic Index. Di wilayah Asia Tenggara, Indonesia berada pada peringkat 4 dari 9 negara di bawah Singapura, Malaysia, dan Thailand (World Economic Forum, 2017). Biaya logistik yang mahal, kualitas pelayanan belum memadai, terdapat pungutan tidak resmi, pelayanan operasional ekspor-impor lambat, kapasitas dan jaringan pelayanan penyedia jasa terbatas, dan disparitas harga di daerah terpencil merupakan berbagai permasalahan logistik lain yang dihadapi Indonesia (The World Bank, 2016)\"\n",
    "\n",
    "#split per kalimat\n",
    "kalimat = paragraf.split('.') #split berdasar tanda baca\n",
    "print(kalimat)\n",
    "print()\n",
    "\n",
    "#split per kalimat per kata\n",
    "for k in kalimat:\n",
    "    print (k.strip().split())"
   ]
  },
  {
   "cell_type": "markdown",
   "metadata": {},
   "source": [
    "### Pencarian kata"
   ]
  },
  {
   "cell_type": "code",
   "execution_count": 90,
   "metadata": {},
   "outputs": [
    {
     "name": "stdout",
     "output_type": "stream",
     "text": [
      "Yep!\n"
     ]
    }
   ],
   "source": [
    "cari = \"Indonesia\"\n",
    "if cari in nama:\n",
    "    print(\"Yep!\")\n",
    "else:\n",
    "    print(\"Nope\")"
   ]
  },
  {
   "cell_type": "code",
   "execution_count": 102,
   "metadata": {},
   "outputs": [
    {
     "name": "stdout",
     "output_type": "stream",
     "text": [
      "Yep!\n",
      "Nope\n",
      "Nope\n"
     ]
    }
   ],
   "source": [
    "cari = ['Indonesia','malaysia','maju']\n",
    "for z in cari:\n",
    "    if z in nama:\n",
    "        print(\"Yep!\")\n",
    "    else:\n",
    "        print(\"Nope\")"
   ]
  },
  {
   "cell_type": "markdown",
   "metadata": {},
   "source": [
    "### Replace"
   ]
  },
  {
   "cell_type": "code",
   "execution_count": 103,
   "metadata": {},
   "outputs": [
    {
     "name": "stdout",
     "output_type": "stream",
     "text": [
      "kamu dmn? saya tunggu di kantor bawah\n"
     ]
    }
   ],
   "source": [
    "paragraf = \"Km dMn? sY tunGGu di kAntOr bWh\"\n",
    "paragraf = paragraf.lower()\n",
    "paragraf = paragraf.replace('km', 'kamu')\n",
    "paragraf = paragraf.replace('dmn', 'dimana')\n",
    "paragraf = paragraf.replace('sy', 'saya')\n",
    "paragraf = paragraf.replace('bwh', 'bawah')\n",
    "print(paragraf)"
   ]
  },
  {
   "cell_type": "markdown",
   "metadata": {},
   "source": [
    " "
   ]
  },
  {
   "cell_type": "markdown",
   "metadata": {},
   "source": [
    "### Panjang String, Lower, Upper"
   ]
  },
  {
   "cell_type": "code",
   "execution_count": 96,
   "metadata": {},
   "outputs": [
    {
     "name": "stdout",
     "output_type": "stream",
     "text": [
      "26\n",
      "INDONESIA NEGARA MAJU 2045\n",
      "indonesia negara maju 2045\n"
     ]
    }
   ],
   "source": [
    "print(len(nama))\n",
    "print(nama.upper())\n",
    "print(nama.lower())"
   ]
  },
  {
   "cell_type": "code",
   "execution_count": null,
   "metadata": {},
   "outputs": [],
   "source": []
  },
  {
   "cell_type": "markdown",
   "metadata": {},
   "source": [
    "Sentiment analysis = liat suatu konten memiliki kencenderungan kemana"
   ]
  },
  {
   "cell_type": "markdown",
   "metadata": {},
   "source": [
    "# Tugas List nilai\n"
   ]
  },
  {
   "cell_type": "code",
   "execution_count": null,
   "metadata": {},
   "outputs": [],
   "source": [
    "ga boleh pake library\n",
    "\n",
    "no 5 pake dictionary"
   ]
  },
  {
   "cell_type": "code",
   "execution_count": null,
   "metadata": {},
   "outputs": [],
   "source": []
  }
 ],
 "metadata": {
  "kernelspec": {
   "display_name": "Python 3",
   "language": "python",
   "name": "python3"
  },
  "language_info": {
   "codemirror_mode": {
    "name": "ipython",
    "version": 3
   },
   "file_extension": ".py",
   "mimetype": "text/x-python",
   "name": "python",
   "nbconvert_exporter": "python",
   "pygments_lexer": "ipython3",
   "version": "3.6.5"
  }
 },
 "nbformat": 4,
 "nbformat_minor": 2
}
