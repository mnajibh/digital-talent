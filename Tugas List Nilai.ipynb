{
 "cells": [
  {
   "cell_type": "code",
   "execution_count": 88,
   "metadata": {},
   "outputs": [
    {
     "name": "stdout",
     "output_type": "stream",
     "text": [
      "[65, 54, 27, 44, 87, 73, 79, 91, 26, 5, 82, 66, 41, 33, 40, 94, 12, 21, 60, 21, 9, 95, 9, 63, 60, 52, 95, 87, 92, 47, 35, 25, 49, 70, 99, 39, 71, 2, 64, 1, 78, 85, 55, 22, 74, 12, 68, 39, 73, 90, 97, 94, 63, 64, 16, 88, 40, 18, 17, 58, 66, 9, 84, 39, 72, 75, 45, 70, 8, 37, 9, 45, 45, 49, 34, 17, 46, 84, 26, 44, 29, 5, 55, 1, 41, 58, 20, 81, 15, 27, 5, 22, 32, 23, 30, 73, 81, 85, 75, 48, 60, 36, 9, 78, 13, 69, 42, 94, 92, 1, 47, 4, 10, 2, 63, 48, 70, 97, 56, 84, 37, 57, 38, 44, 5, 50, 25, 40, 59, 9, 99, 75, 77, 9, 87, 98, 71, 35, 60, 31, 13, 10, 76, 41, 88, 49, 97, 69, 28, 57, 33, 39, 26, 59, 28, 70, 60, 62, 1, 91, 83, 87, 47, 2, 47, 32, 76, 77, 15, 60, 24, 82, 65, 49, 39, 44, 83, 73, 19, 25, 49, 45, 11, 87, 95, 88, 45, 55, 66, 82, 27, 5, 59, 98, 87, 50, 96, 95, 97, 67, 27, 9, 70, 36, 89, 29, 98, 83, 38, 36, 98, 56, 73, 6, 18, 14, 27, 75, 15, 25, 69, 1, 1, 37, 11, 7, 22, 13, 84, 92, 96, 67, 10, 88, 8, 49, 22, 47, 29, 18, 35, 23, 82, 55, 81, 4, 96, 56, 37, 43]\n"
     ]
    }
   ],
   "source": [
    "import random\n",
    "\n",
    "# GENERATE RANDOM\n",
    "nilaiTugas = []\n",
    "for i in range(250):\n",
    "    nilaiTugas.append(random.randrange(1,100,1))\n",
    "\n",
    "print(nilaiTugas)"
   ]
  },
  {
   "cell_type": "markdown",
   "metadata": {},
   "source": [
    "### 1. ganjil"
   ]
  },
  {
   "cell_type": "code",
   "execution_count": 101,
   "metadata": {},
   "outputs": [
    {
     "name": "stdout",
     "output_type": "stream",
     "text": [
      "65\n",
      "27\n",
      "87\n",
      "73\n",
      "79\n",
      "91\n",
      "5\n",
      "41\n",
      "33\n",
      "21\n",
      "21\n",
      "9\n",
      "95\n",
      "9\n",
      "63\n",
      "95\n",
      "87\n",
      "47\n",
      "35\n",
      "25\n",
      "49\n",
      "99\n",
      "39\n",
      "71\n",
      "1\n",
      "85\n",
      "55\n",
      "39\n",
      "73\n",
      "97\n",
      "63\n",
      "17\n",
      "9\n",
      "39\n",
      "75\n",
      "45\n",
      "37\n",
      "9\n",
      "45\n",
      "45\n",
      "49\n",
      "17\n",
      "29\n",
      "5\n",
      "55\n",
      "1\n",
      "41\n",
      "81\n",
      "15\n",
      "27\n",
      "5\n",
      "23\n",
      "73\n",
      "81\n",
      "85\n",
      "75\n",
      "9\n",
      "13\n",
      "69\n",
      "1\n",
      "47\n",
      "63\n",
      "97\n",
      "37\n",
      "57\n",
      "5\n",
      "25\n",
      "59\n",
      "9\n",
      "99\n",
      "75\n",
      "77\n",
      "9\n",
      "87\n",
      "71\n",
      "35\n",
      "31\n",
      "13\n",
      "41\n",
      "49\n",
      "97\n",
      "69\n",
      "57\n",
      "33\n",
      "39\n",
      "59\n",
      "1\n",
      "91\n",
      "83\n",
      "87\n",
      "47\n",
      "47\n",
      "77\n",
      "15\n",
      "65\n",
      "49\n",
      "39\n",
      "83\n",
      "73\n",
      "19\n",
      "25\n",
      "49\n",
      "45\n",
      "11\n",
      "87\n",
      "95\n",
      "45\n",
      "55\n",
      "27\n",
      "5\n",
      "59\n",
      "87\n",
      "95\n",
      "97\n",
      "67\n",
      "27\n",
      "9\n",
      "89\n",
      "29\n",
      "83\n",
      "73\n",
      "27\n",
      "75\n",
      "15\n",
      "25\n",
      "69\n",
      "1\n",
      "1\n",
      "37\n",
      "11\n",
      "7\n",
      "13\n",
      "67\n",
      "49\n",
      "47\n",
      "29\n",
      "35\n",
      "23\n",
      "55\n",
      "81\n",
      "37\n",
      "43\n"
     ]
    }
   ],
   "source": [
    "\n",
    "for u in nilaiTugas:\n",
    "    if u%2 != 0:\n",
    "        print(u)"
   ]
  },
  {
   "cell_type": "markdown",
   "metadata": {},
   "source": [
    "### 2. nilai >70"
   ]
  },
  {
   "cell_type": "code",
   "execution_count": 90,
   "metadata": {},
   "outputs": [
    {
     "name": "stdout",
     "output_type": "stream",
     "text": [
      "87\n",
      "73\n",
      "79\n",
      "91\n",
      "82\n",
      "94\n",
      "95\n",
      "95\n",
      "87\n",
      "92\n",
      "99\n",
      "71\n",
      "78\n",
      "85\n",
      "74\n",
      "73\n",
      "90\n",
      "97\n",
      "94\n",
      "88\n",
      "84\n",
      "72\n",
      "75\n",
      "84\n",
      "81\n",
      "73\n",
      "81\n",
      "85\n",
      "75\n",
      "78\n",
      "94\n",
      "92\n",
      "97\n",
      "84\n",
      "99\n",
      "75\n",
      "77\n",
      "87\n",
      "98\n",
      "71\n",
      "76\n",
      "88\n",
      "97\n",
      "91\n",
      "83\n",
      "87\n",
      "76\n",
      "77\n",
      "82\n",
      "83\n",
      "73\n",
      "87\n",
      "95\n",
      "88\n",
      "82\n",
      "98\n",
      "87\n",
      "96\n",
      "95\n",
      "97\n",
      "89\n",
      "98\n",
      "83\n",
      "98\n",
      "73\n",
      "75\n",
      "84\n",
      "92\n",
      "96\n",
      "88\n",
      "82\n",
      "81\n",
      "96\n"
     ]
    }
   ],
   "source": [
    "\n",
    "for u in nilaiTugas:\n",
    "    if u>70:\n",
    "        print(u)"
   ]
  },
  {
   "cell_type": "markdown",
   "metadata": {},
   "source": [
    "### 3. standar deviasi"
   ]
  },
  {
   "cell_type": "code",
   "execution_count": 91,
   "metadata": {},
   "outputs": [
    {
     "name": "stdout",
     "output_type": "stream",
     "text": [
      "rata-rata       = 49.848\n",
      "varian          = 850.9608959999997\n",
      "standar deviasi = 29.171234050002063\n"
     ]
    }
   ],
   "source": [
    "# rata-rata\n",
    "total = 0\n",
    "for n in nilaiTugas:\n",
    "    total += n \n",
    "\n",
    "mean = total / len(nilaiTugas)\n",
    "print(\"rata-rata       =\", mean)\n",
    "\n",
    "# varian, asumsi digunakan untuk populasi\n",
    "totalvar = 0\n",
    "for x in nilaiTugas:\n",
    "    totalvar += (x-mean)**2\n",
    "\n",
    "var = totalvar / len(nilaiTugas)\n",
    "print(\"varian          =\", var)\n",
    "\n",
    "# standar deviasi, asumsi digunakan untuk populasi\n",
    "std = var**0.5\n",
    "print(\"standar deviasi =\",std)"
   ]
  },
  {
   "cell_type": "code",
   "execution_count": 92,
   "metadata": {},
   "outputs": [
    {
     "data": {
      "text/plain": [
       "29.171234050002067"
      ]
     },
     "execution_count": 92,
     "metadata": {},
     "output_type": "execute_result"
    }
   ],
   "source": [
    "import numpy as np\n",
    "\n",
    "np.std(nilaiTugas)"
   ]
  },
  {
   "cell_type": "markdown",
   "metadata": {},
   "source": [
    "### 4. maksimum"
   ]
  },
  {
   "cell_type": "code",
   "execution_count": 93,
   "metadata": {},
   "outputs": [
    {
     "name": "stdout",
     "output_type": "stream",
     "text": [
      "99\n"
     ]
    }
   ],
   "source": [
    "mak = nilaiTugas[0]\n",
    "for x in nilaiTugas:\n",
    "    if x > mak:\n",
    "        mak = x\n",
    "print (mak)"
   ]
  },
  {
   "cell_type": "code",
   "execution_count": 94,
   "metadata": {},
   "outputs": [],
   "source": [
    "max(nilaiTugas)"
   ]
  },
  {
   "cell_type": "markdown",
   "metadata": {},
   "source": [
    "### 5. minimum"
   ]
  },
  {
   "cell_type": "code",
   "execution_count": 95,
   "metadata": {},
   "outputs": [
    {
     "name": "stdout",
     "output_type": "stream",
     "text": [
      "1\n"
     ]
    }
   ],
   "source": [
    "mim = nilaiTugas[0]\n",
    "for n in nilaiTugas:\n",
    "    if n < mim:\n",
    "        mim = n\n",
    "print (mim)"
   ]
  },
  {
   "cell_type": "code",
   "execution_count": 96,
   "metadata": {},
   "outputs": [
    {
     "data": {
      "text/plain": [
       "1"
      ]
     },
     "execution_count": 96,
     "metadata": {},
     "output_type": "execute_result"
    }
   ],
   "source": [
    "min(nilaiTugas)"
   ]
  },
  {
   "cell_type": "markdown",
   "metadata": {},
   "source": [
    "### 6. modus"
   ]
  },
  {
   "cell_type": "code",
   "execution_count": 97,
   "metadata": {},
   "outputs": [
    {
     "name": "stdout",
     "output_type": "stream",
     "text": [
      "modus     = 9\n",
      "frekuensi = 8\n"
     ]
    }
   ],
   "source": [
    "dict = {}\n",
    "\n",
    "for i in nilaiTugas:\n",
    "    if i in dict:\n",
    "        dict[i] += 1\n",
    "    else:\n",
    "        dict[i] = 1\n",
    "\n",
    "temp = 0\n",
    "mode = 0\n",
    "for k,v in dict.items():\n",
    "    if v > temp:\n",
    "        temp = v\n",
    "        mode = k\n",
    "print (\"modus     =\", mode)\n",
    "print (\"frekuensi =\", temp)"
   ]
  },
  {
   "cell_type": "code",
   "execution_count": 98,
   "metadata": {},
   "outputs": [
    {
     "data": {
      "text/plain": [
       "9"
      ]
     },
     "execution_count": 98,
     "metadata": {},
     "output_type": "execute_result"
    }
   ],
   "source": [
    "from statistics import mode\n",
    "\n",
    "mode(nilaiTugas)"
   ]
  },
  {
   "cell_type": "code",
   "execution_count": null,
   "metadata": {},
   "outputs": [],
   "source": []
  }
 ],
 "metadata": {
  "kernelspec": {
   "display_name": "Python 3",
   "language": "python",
   "name": "python3"
  },
  "language_info": {
   "codemirror_mode": {
    "name": "ipython",
    "version": 3
   },
   "file_extension": ".py",
   "mimetype": "text/x-python",
   "name": "python",
   "nbconvert_exporter": "python",
   "pygments_lexer": "ipython3",
   "version": "3.6.5"
  }
 },
 "nbformat": 4,
 "nbformat_minor": 2
}
