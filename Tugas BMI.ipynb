{
 "cells": [
  {
   "cell_type": "markdown",
   "metadata": {},
   "source": [
    "## BMI Calculator"
   ]
  },
  {
   "cell_type": "code",
   "execution_count": 65,
   "metadata": {},
   "outputs": [
    {
     "name": "stdout",
     "output_type": "stream",
     "text": [
      "BMI score = 27.74474831549742\n"
     ]
    }
   ],
   "source": [
    "weight = 84    #kg\n",
    "height = 174   #cm\n",
    "bmi = weight/(height/100)**2\n",
    "print(\"BMI score =\",bmi)"
   ]
  },
  {
   "cell_type": "code",
   "execution_count": 71,
   "metadata": {},
   "outputs": [
    {
     "name": "stdout",
     "output_type": "stream",
     "text": [
      "BMI category = Overweight\n"
     ]
    }
   ],
   "source": [
    "if bmi<0:\n",
    "    print(\"BMI category =\",\"Your input must be illogical\")\n",
    "elif bmi<15:\n",
    "    print(\"BMI category =\",\"Very severely underweight\")\n",
    "elif bmi<16:\n",
    "    print(\"BMI category =\",\"Severly underweight\")\n",
    "elif bmi<18.5:\n",
    "    print(\"BMI category =\",\"Underweight\")\n",
    "elif bmi<25:\n",
    "    print(\"BMI category =\",\"Normal (healty weight)\")\n",
    "elif bmi<30:\n",
    "    print(\"BMI category =\",\"Overweight\")\n",
    "elif bmi<35:\n",
    "    print(\"BMI category =\",\"Moderately obese\")\n",
    "elif bmi<40:\n",
    "    print(\"BMI category =\",\"Severely obese\")\n",
    "else:\n",
    "    print(\"BMI category =\",\"Very severely obese\")"
   ]
  },
  {
   "cell_type": "code",
   "execution_count": null,
   "metadata": {},
   "outputs": [],
   "source": []
  }
 ],
 "metadata": {
  "kernelspec": {
   "display_name": "Python 3",
   "language": "python",
   "name": "python3"
  },
  "language_info": {
   "codemirror_mode": {
    "name": "ipython",
    "version": 3
   },
   "file_extension": ".py",
   "mimetype": "text/x-python",
   "name": "python",
   "nbconvert_exporter": "python",
   "pygments_lexer": "ipython3",
   "version": "3.6.5"
  }
 },
 "nbformat": 4,
 "nbformat_minor": 2
}
